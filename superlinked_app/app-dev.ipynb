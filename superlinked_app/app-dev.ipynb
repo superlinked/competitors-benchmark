{
 "cells": [
  {
   "cell_type": "code",
   "execution_count": 5,
   "id": "6ba96c40-b381-48c6-bee6-c7c19ce50949",
   "metadata": {},
   "outputs": [],
   "source": [
    "import os\n",
    "os.chdir(\"..\")"
   ]
  },
  {
   "cell_type": "code",
   "execution_count": 9,
   "id": "139db581-3a6b-44df-9dbb-ed4ff5a785dc",
   "metadata": {
    "scrolled": true
   },
   "outputs": [],
   "source": [
    "import json\n",
    "import pandas as pd"
   ]
  },
  {
   "cell_type": "markdown",
   "id": "77dbb5ae-3979-44f2-8755-be52a6cdd587",
   "metadata": {},
   "source": [
    "# CONFIG CREATION"
   ]
  },
  {
   "cell_type": "markdown",
   "id": "c38d980b-d8ca-46e5-bc86-035044531fb4",
   "metadata": {},
   "source": [
    "## Products"
   ]
  },
  {
   "cell_type": "code",
   "execution_count": 4,
   "id": "19d66d90",
   "metadata": {},
   "outputs": [
    {
     "name": "stdout",
     "output_type": "stream",
     "text": [
      "Your browser has been opened to visit:\n",
      "\n",
      "    https://accounts.google.com/o/oauth2/auth?response_type=code&client_id=764086051850-6qr4p6gpi6hn506pt8ejuq83di341hur.apps.googleusercontent.com&redirect_uri=http%3A%2F%2Flocalhost%3A8085%2F&scope=openid+https%3A%2F%2Fwww.googleapis.com%2Fauth%2Fuserinfo.email+https%3A%2F%2Fwww.googleapis.com%2Fauth%2Fcloud-platform+https%3A%2F%2Fwww.googleapis.com%2Fauth%2Fsqlservice.login&state=Pxlggx0ZWeuAebZQnwpdV4VcBa6mQQ&access_type=offline&code_challenge=1GZXXGtS8EKz1X0BEE-OqEECbuHmfQ4gTFim3mmYzbw&code_challenge_method=S256\n",
      "\n",
      "\n",
      "Credentials saved to file: [/Users/benji-qu/.config/gcloud/application_default_credentials.json]\n",
      "\n",
      "These credentials will be used by any library that requests Application Default Credentials (ADC).\n",
      "\n",
      "Quota project \"data-359211\" was added to ADC which can be used by Google client libraries for billing and quota. Note that some services may still bill the project owning the resource.\n",
      "\n",
      "\n",
      "Updates are available for some Google Cloud CLI components.  To install them,\n",
      "please run:\n",
      "  $ gcloud components update\n",
      "\n"
     ]
    }
   ],
   "source": [
    "! gcloud auth application-default login\n",
    "\n"
   ]
  },
  {
   "cell_type": "markdown",
   "id": "83e19db2-78dd-4bdd-9a56-7a3eed19c4c6",
   "metadata": {},
   "source": [
    "### Create unique categories"
   ]
  },
  {
   "cell_type": "code",
   "execution_count": 10,
   "id": "529cfe2d-ec20-40e7-8e13-cc96b03abf46",
   "metadata": {},
   "outputs": [],
   "source": [
    "# new_dataset_name = \"20250908\"\n",
    "# product_data = pd.read_json(f\"gs://superlinked-benchmarks-internal/wayfair_wands_datasets/{new_dataset_name}/products.jsonl\", lines=True)\n",
    "product_data = pd.read_json(\n",
    "    \"/Users/benji-qu/Projects/wands-product-search/data/output/products.jsonl\",\n",
    "    lines=True\n",
    ")\n",
    "# product_data = data_prep(product_data, settings)"
   ]
  },
  {
   "cell_type": "code",
   "execution_count": 11,
   "id": "3c46c211-f12b-4d92-83bd-18cd0b54bfd0",
   "metadata": {},
   "outputs": [
    {
     "data": {
      "text/html": [
       "<div>\n",
       "<style scoped>\n",
       "    .dataframe tbody tr th:only-of-type {\n",
       "        vertical-align: middle;\n",
       "    }\n",
       "\n",
       "    .dataframe tbody tr th {\n",
       "        vertical-align: top;\n",
       "    }\n",
       "\n",
       "    .dataframe thead th {\n",
       "        text-align: right;\n",
       "    }\n",
       "</style>\n",
       "<table border=\"1\" class=\"dataframe\">\n",
       "  <thead>\n",
       "    <tr style=\"text-align: right;\">\n",
       "      <th></th>\n",
       "      <th>product_id</th>\n",
       "      <th>product_name</th>\n",
       "      <th>product_description</th>\n",
       "      <th>product_class</th>\n",
       "      <th>material</th>\n",
       "      <th>style</th>\n",
       "      <th>color</th>\n",
       "      <th>rating_count</th>\n",
       "      <th>average_rating</th>\n",
       "      <th>countryoforigin</th>\n",
       "      <th>price</th>\n",
       "    </tr>\n",
       "  </thead>\n",
       "  <tbody>\n",
       "    <tr>\n",
       "      <th>0</th>\n",
       "      <td>product_1</td>\n",
       "      <td>vezina 65 '' rolled arm chesterfield loveseat</td>\n",
       "      <td>in the endless world of sofa style options , t...</td>\n",
       "      <td>Sofas</td>\n",
       "      <td>[foam, faux leather]</td>\n",
       "      <td>[traditional]</td>\n",
       "      <td>[brown, red]</td>\n",
       "      <td>4989</td>\n",
       "      <td>5.0</td>\n",
       "      <td>[China]</td>\n",
       "      <td>2100</td>\n",
       "    </tr>\n",
       "    <tr>\n",
       "      <th>1</th>\n",
       "      <td>product_2</td>\n",
       "      <td>2 drawer standard dresser</td>\n",
       "      <td>2 drawer standard dresser, Furniture / Bedroom...</td>\n",
       "      <td>Dressers &amp; Chests</td>\n",
       "      <td>[wood]</td>\n",
       "      <td>[traditional]</td>\n",
       "      <td>[white, yellow]</td>\n",
       "      <td>2511</td>\n",
       "      <td>5.0</td>\n",
       "      <td>[China]</td>\n",
       "      <td>1600</td>\n",
       "    </tr>\n",
       "    <tr>\n",
       "      <th>2</th>\n",
       "      <td>product_3</td>\n",
       "      <td>peacock figurine</td>\n",
       "      <td>peacock figurine, Décor &amp; Pillows / Home Acces...</td>\n",
       "      <td>Decorative Objects</td>\n",
       "      <td>[metal]</td>\n",
       "      <td>[traditional]</td>\n",
       "      <td>[bronze]</td>\n",
       "      <td>3107</td>\n",
       "      <td>4.3</td>\n",
       "      <td>[China]</td>\n",
       "      <td>100</td>\n",
       "    </tr>\n",
       "    <tr>\n",
       "      <th>3</th>\n",
       "      <td>product_4</td>\n",
       "      <td>chenut rooster figurine</td>\n",
       "      <td>chenut rooster figurine, Décor &amp; Pillows / Hom...</td>\n",
       "      <td>Decorative Objects</td>\n",
       "      <td>[ceramic]</td>\n",
       "      <td>[country]</td>\n",
       "      <td>[gold]</td>\n",
       "      <td>2456</td>\n",
       "      <td>5.0</td>\n",
       "      <td>[China]</td>\n",
       "      <td>85</td>\n",
       "    </tr>\n",
       "    <tr>\n",
       "      <th>4</th>\n",
       "      <td>product_5</td>\n",
       "      <td>configrauble living room set</td>\n",
       "      <td>configurable living room set constructions hav...</td>\n",
       "      <td>Coffee &amp; Cocktail Tables</td>\n",
       "      <td>[foam, metal]</td>\n",
       "      <td>[country]</td>\n",
       "      <td>[brown]</td>\n",
       "      <td>2780</td>\n",
       "      <td>5.0</td>\n",
       "      <td>[USA]</td>\n",
       "      <td>650</td>\n",
       "    </tr>\n",
       "  </tbody>\n",
       "</table>\n",
       "</div>"
      ],
      "text/plain": [
       "  product_id                                   product_name  \\\n",
       "0  product_1  vezina 65 '' rolled arm chesterfield loveseat   \n",
       "1  product_2                      2 drawer standard dresser   \n",
       "2  product_3                               peacock figurine   \n",
       "3  product_4                        chenut rooster figurine   \n",
       "4  product_5                   configrauble living room set   \n",
       "\n",
       "                                 product_description  \\\n",
       "0  in the endless world of sofa style options , t...   \n",
       "1  2 drawer standard dresser, Furniture / Bedroom...   \n",
       "2  peacock figurine, Décor & Pillows / Home Acces...   \n",
       "3  chenut rooster figurine, Décor & Pillows / Hom...   \n",
       "4  configurable living room set constructions hav...   \n",
       "\n",
       "              product_class              material          style  \\\n",
       "0                     Sofas  [foam, faux leather]  [traditional]   \n",
       "1         Dressers & Chests                [wood]  [traditional]   \n",
       "2        Decorative Objects               [metal]  [traditional]   \n",
       "3        Decorative Objects             [ceramic]      [country]   \n",
       "4  Coffee & Cocktail Tables         [foam, metal]      [country]   \n",
       "\n",
       "             color  rating_count  average_rating countryoforigin  price  \n",
       "0     [brown, red]          4989             5.0         [China]   2100  \n",
       "1  [white, yellow]          2511             5.0         [China]   1600  \n",
       "2         [bronze]          3107             4.3         [China]    100  \n",
       "3           [gold]          2456             5.0         [China]     85  \n",
       "4          [brown]          2780             5.0           [USA]    650  "
      ]
     },
     "execution_count": 11,
     "metadata": {},
     "output_type": "execute_result"
    }
   ],
   "source": [
    "product_data.head()"
   ]
  },
  {
   "cell_type": "code",
   "execution_count": 12,
   "id": "1cc79bfb-9fcd-4f9a-92ee-8657b9d1716e",
   "metadata": {},
   "outputs": [],
   "source": [
    "list_cols = [\"material\", \"style\", \"color\", \"countryoforigin\"]\n",
    "\n",
    "unique_categories = {\n",
    "    list_col: list(\n",
    "        set([item for sublist in product_data[list_col].tolist() for item in sublist])\n",
    "    )\n",
    "    for list_col in list_cols\n",
    "}\n",
    "\n",
    "def get_unique_categories(series: pd.Series) -> list[str]:\n",
    "    return series.dropna().unique().tolist()\n",
    "\n",
    "unique_categories[\"product_class\"] = get_unique_categories(\n",
    "    product_data[\"product_class\"]\n",
    ")\n",
    "with open(\"/Users/benji-qu/Projects/wands-product-search/data/output/unique_categories.json\", \"w\") as f:\n",
    "    json.dump(unique_categories, f, indent=2)\n"
   ]
  },
  {
   "cell_type": "code",
   "execution_count": 7,
   "id": "4794371e-77da-4f55-8344-bab8ddd82ab7",
   "metadata": {},
   "outputs": [],
   "source": [
    "upload_text_to_gcs(\n",
    "    json.dumps(unique_categories), config.bucket_name, f'wayfair_wands_datasets/{new_dataset_name}/unique_categories.json'\n",
    ")"
   ]
  },
  {
   "cell_type": "markdown",
   "id": "57392580-d1fd-4a0a-9277-981ac04e4f50",
   "metadata": {},
   "source": [
    "### Check unique categories"
   ]
  },
  {
   "cell_type": "code",
   "execution_count": 7,
   "id": "e93bd5de-04fc-458d-a13a-801593a329a4",
   "metadata": {},
   "outputs": [],
   "source": [
    "product_data = pd.read_json(\n",
    "            f\"gs://{config.bucket_name}/{config.product_dataset_path}\", lines=True\n",
    "        )\n",
    "\n",
    "unique_categories = json.loads(\n",
    "    download_text_from_gcs(\n",
    "        bucket_name=config.bucket_name, file_path=config.unique_categories_path\n",
    "    )\n",
    ")"
   ]
  },
  {
   "cell_type": "code",
   "execution_count": 8,
   "id": "1dcadb56-575d-41ba-aab4-67a977b7e774",
   "metadata": {},
   "outputs": [
    {
     "data": {
      "text/html": [
       "<div>\n",
       "<style scoped>\n",
       "    .dataframe tbody tr th:only-of-type {\n",
       "        vertical-align: middle;\n",
       "    }\n",
       "\n",
       "    .dataframe tbody tr th {\n",
       "        vertical-align: top;\n",
       "    }\n",
       "\n",
       "    .dataframe thead th {\n",
       "        text-align: right;\n",
       "    }\n",
       "</style>\n",
       "<table border=\"1\" class=\"dataframe\">\n",
       "  <thead>\n",
       "    <tr style=\"text-align: right;\">\n",
       "      <th></th>\n",
       "      <th>rating_count</th>\n",
       "      <th>average_rating</th>\n",
       "      <th>price</th>\n",
       "    </tr>\n",
       "  </thead>\n",
       "  <tbody>\n",
       "    <tr>\n",
       "      <th>count</th>\n",
       "      <td>10100.000000</td>\n",
       "      <td>10100.000000</td>\n",
       "      <td>10100.000000</td>\n",
       "    </tr>\n",
       "    <tr>\n",
       "      <th>mean</th>\n",
       "      <td>2934.494554</td>\n",
       "      <td>4.446574</td>\n",
       "      <td>1044.297525</td>\n",
       "    </tr>\n",
       "    <tr>\n",
       "      <th>std</th>\n",
       "      <td>3977.781407</td>\n",
       "      <td>0.424737</td>\n",
       "      <td>969.870418</td>\n",
       "    </tr>\n",
       "    <tr>\n",
       "      <th>min</th>\n",
       "      <td>45.000000</td>\n",
       "      <td>3.000000</td>\n",
       "      <td>0.000000</td>\n",
       "    </tr>\n",
       "    <tr>\n",
       "      <th>10%</th>\n",
       "      <td>199.900000</td>\n",
       "      <td>4.000000</td>\n",
       "      <td>125.000000</td>\n",
       "    </tr>\n",
       "    <tr>\n",
       "      <th>20%</th>\n",
       "      <td>433.800000</td>\n",
       "      <td>4.000000</td>\n",
       "      <td>250.000000</td>\n",
       "    </tr>\n",
       "    <tr>\n",
       "      <th>30%</th>\n",
       "      <td>873.400000</td>\n",
       "      <td>4.500000</td>\n",
       "      <td>375.000000</td>\n",
       "    </tr>\n",
       "    <tr>\n",
       "      <th>40%</th>\n",
       "      <td>1399.600000</td>\n",
       "      <td>4.500000</td>\n",
       "      <td>525.000000</td>\n",
       "    </tr>\n",
       "    <tr>\n",
       "      <th>50%</th>\n",
       "      <td>2092.500000</td>\n",
       "      <td>4.500000</td>\n",
       "      <td>725.000000</td>\n",
       "    </tr>\n",
       "    <tr>\n",
       "      <th>60%</th>\n",
       "      <td>2926.800000</td>\n",
       "      <td>4.500000</td>\n",
       "      <td>1000.000000</td>\n",
       "    </tr>\n",
       "    <tr>\n",
       "      <th>70%</th>\n",
       "      <td>3868.000000</td>\n",
       "      <td>4.500000</td>\n",
       "      <td>1300.000000</td>\n",
       "    </tr>\n",
       "    <tr>\n",
       "      <th>80%</th>\n",
       "      <td>5014.200000</td>\n",
       "      <td>5.000000</td>\n",
       "      <td>1800.000000</td>\n",
       "    </tr>\n",
       "    <tr>\n",
       "      <th>90%</th>\n",
       "      <td>6620.400000</td>\n",
       "      <td>5.000000</td>\n",
       "      <td>2400.000000</td>\n",
       "    </tr>\n",
       "    <tr>\n",
       "      <th>95%</th>\n",
       "      <td>7743.250000</td>\n",
       "      <td>5.000000</td>\n",
       "      <td>3000.000000</td>\n",
       "    </tr>\n",
       "    <tr>\n",
       "      <th>98%</th>\n",
       "      <td>8722.080000</td>\n",
       "      <td>5.000000</td>\n",
       "      <td>3600.000000</td>\n",
       "    </tr>\n",
       "    <tr>\n",
       "      <th>99%</th>\n",
       "      <td>9308.150000</td>\n",
       "      <td>5.000000</td>\n",
       "      <td>4101.000000</td>\n",
       "    </tr>\n",
       "    <tr>\n",
       "      <th>max</th>\n",
       "      <td>109226.000000</td>\n",
       "      <td>5.000000</td>\n",
       "      <td>7600.000000</td>\n",
       "    </tr>\n",
       "  </tbody>\n",
       "</table>\n",
       "</div>"
      ],
      "text/plain": [
       "        rating_count  average_rating         price\n",
       "count   10100.000000    10100.000000  10100.000000\n",
       "mean     2934.494554        4.446574   1044.297525\n",
       "std      3977.781407        0.424737    969.870418\n",
       "min        45.000000        3.000000      0.000000\n",
       "10%       199.900000        4.000000    125.000000\n",
       "20%       433.800000        4.000000    250.000000\n",
       "30%       873.400000        4.500000    375.000000\n",
       "40%      1399.600000        4.500000    525.000000\n",
       "50%      2092.500000        4.500000    725.000000\n",
       "60%      2926.800000        4.500000   1000.000000\n",
       "70%      3868.000000        4.500000   1300.000000\n",
       "80%      5014.200000        5.000000   1800.000000\n",
       "90%      6620.400000        5.000000   2400.000000\n",
       "95%      7743.250000        5.000000   3000.000000\n",
       "98%      8722.080000        5.000000   3600.000000\n",
       "99%      9308.150000        5.000000   4101.000000\n",
       "max    109226.000000        5.000000   7600.000000"
      ]
     },
     "execution_count": 8,
     "metadata": {},
     "output_type": "execute_result"
    }
   ],
   "source": [
    "desc = product_data[\n",
    "    [\"rating_count\", \"average_rating\", \"price\"]\n",
    "].describe(percentiles=[0.1 * x for x in range(1, 10)] + [0.95, 0.98, 0.99])\n",
    "desc"
   ]
  },
  {
   "cell_type": "markdown",
   "id": "8d03647f-af9d-42ff-8055-5229e727f14a",
   "metadata": {},
   "source": [
    "## Queries"
   ]
  },
  {
   "cell_type": "code",
   "execution_count": 17,
   "id": "2677b137-a7b7-48aa-b922-fea3255c852c",
   "metadata": {},
   "outputs": [],
   "source": [
    "queries = pd.DataFrame(\n",
    "    json.loads(\n",
    "        download_text_from_gcs(config.bucket_name, config.query_dataset_path)\n",
    "    )\n",
    ").set_index(\"query_id\")"
   ]
  },
  {
   "cell_type": "code",
   "execution_count": 18,
   "id": "d4689f01-c326-44e6-99eb-83f83a62fcdf",
   "metadata": {},
   "outputs": [],
   "source": [
    "param_names = sorted(\n",
    "    list(\n",
    "        set(\n",
    "            [\n",
    "                item\n",
    "                for sublist in [f.keys() for f in queries[\"query_params\"].tolist()]\n",
    "                for item in sublist\n",
    "            ]\n",
    "        )\n",
    "    )\n",
    ")"
   ]
  },
  {
   "cell_type": "code",
   "execution_count": 19,
   "id": "cdc05e5c-464c-41c0-be16-1c7abb868ade",
   "metadata": {},
   "outputs": [],
   "source": [
    "param_names_f = []\n",
    "for name in param_names:\n",
    "    if \"weight\" in name:\n",
    "        param_names_f.append(name)\n",
    "    else:\n",
    "        param_names_f.append(name)"
   ]
  },
  {
   "cell_type": "code",
   "execution_count": 20,
   "id": "51e7b1cb-dfda-452f-ab73-61c6816057ab",
   "metadata": {},
   "outputs": [
    {
     "data": {
      "text/plain": [
       "['color',\n",
       " 'color_negated',\n",
       " 'material',\n",
       " 'material_negated',\n",
       " 'price_max',\n",
       " 'price_weight',\n",
       " 'product_class',\n",
       " 'product_description',\n",
       " 'rating_count_min',\n",
       " 'rating_count_weight',\n",
       " 'rating_min',\n",
       " 'rating_weight',\n",
       " 'style',\n",
       " 'style_negated']"
      ]
     },
     "execution_count": 20,
     "metadata": {},
     "output_type": "execute_result"
    }
   ],
   "source": [
    "param_names_f"
   ]
  },
  {
   "cell_type": "markdown",
   "id": "9c7f1f4b-f6e0-4823-ae0f-d4fee5602f98",
   "metadata": {},
   "source": [
    "## Ranked results"
   ]
  },
  {
   "cell_type": "code",
   "execution_count": 9,
   "id": "0de6015b-b058-4b07-acb8-9f080d67a807",
   "metadata": {},
   "outputs": [],
   "source": [
    "ranked_results = json.loads(download_text_from_gcs(config.bucket_name, config.ground_truth_input_path))"
   ]
  },
  {
   "cell_type": "code",
   "execution_count": 10,
   "id": "17fd7b35-cd85-45a0-8974-61730855ce86",
   "metadata": {},
   "outputs": [],
   "source": [
    "len_ser = pd.Series({k: len(v) for k, v in ranked_results.items()})"
   ]
  },
  {
   "cell_type": "code",
   "execution_count": 11,
   "id": "f974c689-40e0-4506-ad09-e28117bcea01",
   "metadata": {
    "scrolled": true
   },
   "outputs": [
    {
     "data": {
      "text/plain": [
       "count    110.000000\n",
       "mean       9.727273\n",
       "std        0.975941\n",
       "min        5.000000\n",
       "10%        9.900000\n",
       "20%       10.000000\n",
       "30%       10.000000\n",
       "40%       10.000000\n",
       "50%       10.000000\n",
       "60%       10.000000\n",
       "70%       10.000000\n",
       "80%       10.000000\n",
       "90%       10.000000\n",
       "max       10.000000\n",
       "dtype: float64"
      ]
     },
     "execution_count": 11,
     "metadata": {},
     "output_type": "execute_result"
    }
   ],
   "source": [
    "len_ser.describe(percentiles=[0.1 * x for x in range(1, 10)])"
   ]
  },
  {
   "cell_type": "code",
   "execution_count": 12,
   "id": "4a0d2b6f-bc8b-479c-868a-e297bcd05731",
   "metadata": {},
   "outputs": [
    {
     "data": {
      "text/plain": [
       "simple-001     5\n",
       "simple-002     5\n",
       "simple-003    10\n",
       "simple-004     8\n",
       "simple-005     9\n",
       "              ..\n",
       "synth-005     10\n",
       "synth-006     10\n",
       "synth-008     10\n",
       "synth-009      9\n",
       "synth-010     10\n",
       "Length: 109, dtype: int64"
      ]
     },
     "execution_count": 12,
     "metadata": {},
     "output_type": "execute_result"
    }
   ],
   "source": [
    "len_ser"
   ]
  },
  {
   "cell_type": "markdown",
   "id": "1696ec58-78f1-493a-b8c7-00e37adb3d77",
   "metadata": {},
   "source": [
    "# QUERY PART"
   ]
  },
  {
   "cell_type": "code",
   "execution_count": null,
   "id": "9d9bd6dd-71a8-48c0-957f-7ee8b65afcdc",
   "metadata": {},
   "outputs": [],
   "source": [
    "queries[0]"
   ]
  },
  {
   "cell_type": "code",
   "execution_count": null,
   "id": "c7851e11-d367-46fb-b1e3-dced5c35f4a9",
   "metadata": {},
   "outputs": [],
   "source": [
    "input_queries = pd.DataFrame.from_dict(queries).set_index(\"query_id\")"
   ]
  },
  {
   "cell_type": "code",
   "execution_count": null,
   "id": "202b87ef-5197-47f1-b5c5-03a4d01974fa",
   "metadata": {},
   "outputs": [],
   "source": [
    "eval_res = download_pickle_from_gcs(config.bucket_name, config.eval_result_output_path)"
   ]
  },
  {
   "cell_type": "code",
   "execution_count": null,
   "id": "6e4908b0-63d3-413e-bf15-012476f3bfb4",
   "metadata": {},
   "outputs": [],
   "source": [
    "[elem for elem in eval_res[0]]"
   ]
  },
  {
   "cell_type": "code",
   "execution_count": null,
   "id": "abeea6f5-c38b-4522-b691-b0f4752cebfa",
   "metadata": {},
   "outputs": [],
   "source": [
    "eval_res = [\n",
    "    [elem for elem in f] + [input_queries.loc[f[0], \"query_type\"]] for f in eval_res\n",
    "]"
   ]
  },
  {
   "cell_type": "code",
   "execution_count": null,
   "id": "4a1abeb5-867f-41c8-924d-c18c231157db",
   "metadata": {},
   "outputs": [],
   "source": [
    "eval_res[0]"
   ]
  },
  {
   "cell_type": "code",
   "execution_count": null,
   "id": "8c65b6c2-c01a-4ed2-91ad-2fe45bcaf8f5",
   "metadata": {},
   "outputs": [],
   "source": [
    "gt_eval = download_pickle_from_gcs(\n",
    "    config.bucket_name, config.eval_ground_truth_output_path\n",
    ")"
   ]
  },
  {
   "cell_type": "code",
   "execution_count": null,
   "id": "a439b852-deea-4317-b102-499a2fa75fb2",
   "metadata": {},
   "outputs": [],
   "source": [
    "evaluate_rankings(eval_res, gt_eval, 10)"
   ]
  },
  {
   "cell_type": "code",
   "execution_count": null,
   "id": "a77825ae-2ab4-432b-a14f-734d6151423a",
   "metadata": {},
   "outputs": [],
   "source": []
  },
  {
   "cell_type": "code",
   "execution_count": null,
   "id": "9106ef4f-c491-424b-a90e-c21bfd5f5029",
   "metadata": {},
   "outputs": [],
   "source": []
  },
  {
   "cell_type": "markdown",
   "id": "f4baed1a-705b-4902-a47e-246e31546bd7",
   "metadata": {},
   "source": [
    "## Query surgery"
   ]
  },
  {
   "cell_type": "code",
   "execution_count": 11,
   "id": "f2689b48-e25d-42fc-8f9b-b8fa733581fa",
   "metadata": {},
   "outputs": [],
   "source": [
    "queries = json.load(open(\"./data/output/queries.json\"))"
   ]
  },
  {
   "cell_type": "code",
   "execution_count": 13,
   "id": "90ef68d4-8788-4219-9f97-96cccc6be1fb",
   "metadata": {},
   "outputs": [],
   "source": [
    "for i, query in enumerate(queries):\n",
    "    for k, v in query[\"query_params\"].items():\n",
    "        if \"weight\" in k:\n",
    "            queries[i][\"query_params\"][k] = v / 2"
   ]
  },
  {
   "cell_type": "code",
   "execution_count": 15,
   "id": "edc7f7db-25ae-412c-89ca-acb64532cb60",
   "metadata": {},
   "outputs": [],
   "source": [
    "json.dump(queries, open(\"./data/output/queries.json\", \"w\"))"
   ]
  },
  {
   "cell_type": "code",
   "execution_count": null,
   "id": "21b284af-f175-4819-a9d8-0a050d5268a2",
   "metadata": {},
   "outputs": [],
   "source": []
  }
 ],
 "metadata": {
  "kernelspec": {
   "display_name": "Python 3",
   "language": "python",
   "name": "python3"
  },
  "language_info": {
   "codemirror_mode": {
    "name": "ipython",
    "version": 3
   },
   "file_extension": ".py",
   "mimetype": "text/x-python",
   "name": "python",
   "nbconvert_exporter": "python",
   "pygments_lexer": "ipython3",
   "version": "3.11.13"
  }
 },
 "nbformat": 4,
 "nbformat_minor": 5
}
